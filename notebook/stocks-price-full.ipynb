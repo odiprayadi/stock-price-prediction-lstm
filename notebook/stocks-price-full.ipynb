# Import necessary libraries
import yfinance as yf  # To get historical stock data
import warnings
import numpy as np  # For numerical operations
import pandas as pd  # For data handling
import tensorflow as tf  # Deep learning library
from sklearn.preprocessing import StandardScaler, MinMaxScaler  # For data normalization
import matplotlib.pyplot as plt  # For plotting charts
import matplotlib
from matplotlib.ticker import FuncFormatter  # For formatting y-axis labels
import pickle  # For saving and loading Python objects
from tqdm import tnrange  # Progress bar in loops
from tensorflow.keras.callbacks import ModelCheckpoint, ReduceLROnPlateau
from tensorflow.keras.models import Sequential
from tensorflow.keras.layers import LSTM, Dense
from tensorflow.keras.callbacks import EarlyStopping
from sklearn.metrics import mean_absolute_error, mean_squared_error, mean_absolute_percentage_error
from tqdm import TqdmDeprecationWarning  # To ignore warnings from tqdm

# Ask user to input stock ticker (e.g., AAPL, TSLA)
ticker_name = input("Ticker: ")

# Get today's date
today = pd.Timestamp.today().strftime('%Y-%m-%d')

# Download stock data from Yahoo Finance starting from Jan 2021
data = yf.download(ticker_name, start="2021-01-01", end=today, interval='1d')

# Ignore unnecessary warnings
warnings.filterwarnings("ignore", category=UserWarning, module='yfinance')
warnings.filterwarnings("ignore", category=FutureWarning)
warnings.filterwarnings("ignore", category=TqdmDeprecationWarning)
matplotlib.rcParams['font.family'] = 'DejaVu Sans'
warnings.filterwarnings("ignore", category=UserWarning, module='matplotlib')

# Check if data is empty
if data.empty:
    print("Data not available")
else:
    # Clean the data index (date) and filter out invalid Close prices
    data.index = pd.to_datetime(data.index).tz_localize(None)
    data = data[data['Close'] > 0]

    # Plot Close price data
    plt.figure(figsize=(10, 6))
    plt.plot(data.index, data['Close'], color='darkcyan', linewidth=2, alpha=0.8)

    # Mark the last Close price
    last_date = data.index[-1]
    last_value = float(data['Close'].iloc[-1])
    plt.plot(last_date, last_value, 'o', color='orange', markersize=7)
    plt.text(last_date, last_value, f'  {last_value:.2f}', color='orange', fontsize=10, verticalalignment='bottom')

    # Customize the plot
    plt.title(f'{ticker_name} - Close Price (YFinance)', fontsize=14, color='black', weight='bold')
    plt.xlabel('Date', fontsize=12, color='gray')
    plt.ylabel('Close Price', fontsize=12, color='gray')

    # Format y-axis as currency
    def format_idr(x, pos):
        return f'USD {x:,.0f}'
    plt.gca().yaxis.set_major_formatter(FuncFormatter(format_idr))

    plt.xticks(rotation=45, fontsize=10, color='gray')
    plt.yticks(fontsize=10, color='gray')
    plt.gca().set_facecolor('white')
    plt.tight_layout()
    plt.show()

# Select only Close and Volume columns for modeling
data = data[['Close', 'Volume']]

# Set how much of the data will be used for testing (from 2023 onward)
test_length = data[(data.index >= '2023-01-01')].shape[0]

# Function to create input sequences and targets
def CreateFeatures_and_Targets(data, feature_length):
    X = []
    Y = []
    for i in tnrange(len(data) - feature_length):
        X.append(data.iloc[i : i + feature_length,:].values)
        Y.append(data['Close'].values[i+feature_length])
    return np.array(X), np.array(Y)

# Create training and testing data
X, Y = CreateFeatures_and_Targets(data, 32)
Xtrain, Xtest, Ytrain, Ytest = X[:-test_length], X[-test_length:], Y[:-test_length], Y[-test_length:]

# Class to scale multi-dimensional input (Close and Volume)
class MultiDimensionScaler():
    def __init__(self, scaler):
        self.scaler = []

    def fit_transform(self, X):
        total_dims = X.shape[2]
        for i in range(total_dims):
            Scaler = MinMaxScaler()
            X[:, :, i] = Scaler.fit_transform(X[:, :, i])
            self.scaler.append(Scaler)
        return X

    def transform(self, X):
        for i in range(X.shape[2]):
            X[:, :, i] = self.scaler[i].transform(X[:, :, i])
        return X

# Flatten data to scale with sklearn
n_train_samples, time_steps, n_features = Xtrain.shape
n_test_samples = Xtest.shape[0]
Xtrain_flat = Xtrain.reshape(-1, n_features)
Xtest_flat = Xtest.reshape(-1, n_features)

# Standardize features
feature_scaler = StandardScaler()
Xtrain_scaled_flat = feature_scaler.fit_transform(Xtrain_flat)
Xtest_scaled_flat = feature_scaler.transform(Xtest_flat)

# Reshape back to 3D
Xtrain_scaled = Xtrain_scaled_flat.reshape(n_train_samples, time_steps, n_features)
Xtest_scaled = Xtest_scaled_flat.reshape(n_test_samples, time_steps, n_features)

# Normalize target values between 0 and 1
target_scaler = MinMaxScaler(feature_range=(0, 1))
Ytrain_scaled = target_scaler.fit_transform(Ytrain.reshape(-1, 1))
Ytest_scaled = target_scaler.transform(Ytest.reshape(-1, 1))

# Assign scaled data to original variables
Xtrain, Xtest = Xtrain_scaled, Xtest_scaled
Ytrain, Ytest = Ytrain_scaled, Ytest_scaled

# Another scaling step (duplicate, can be cleaned)
Target_Scaler = MinMaxScaler()
Ytrain = Target_Scaler.fit_transform(Ytrain.reshape(-1, 1))
Ytest = Target_Scaler.transform(Ytest.reshape(-1, 1))

# Functions to save and load models or objects
def save_object(obj, name:str):
    with open(f"{name}.pck", "wb") as f:
        pickle.dump(obj, f)

def load_object(name:str):
    with open(f"{name}.pck", "rb") as f:
        return pickle.load(f)

# Callbacks to help training process
save_best = ModelCheckpoint("best_weights.weights.h5", monitor='val_loss', save_best_only=True, save_weights_only=True)
reduce_lr = ReduceLROnPlateau(monitor='val_loss', factor=0.1, patience=5, min_lr=0.00001, verbose=1)
early_stop = EarlyStopping(monitor='val_loss', patience=10, restore_best_weights=True)

# Build LSTM model
model = Sequential()
model.add(LSTM(64, return_sequences=True, input_shape=(Xtrain.shape[1], Xtrain.shape[2])))
model.add(LSTM(32))
model.add(Dense(16, activation='relu'))
model.add(Dense(1))

# Compile model
model.compile(optimizer='adam', loss='mse', metrics=['mae'])

# Train model
model.fit(
    Xtrain, Ytrain,
    epochs=100,
    batch_size=32,
    validation_data=(Xtest, Ytest),
    callbacks=[early_stop],
    verbose=0  # Set to 1 if you want to see training progress
)

# Predict on test data
Ypred_scaled = model.predict(Xtest)
Ypred = target_scaler.inverse_transform(Ypred_scaled)
Ytrue = target_scaler.inverse_transform(Ytest)

# Calculate evaluation metrics
mae = mean_absolute_error(Ytrue, Ypred)
rmse = np.sqrt(mean_squared_error(Ytrue, Ypred))
mape = mean_absolute_percentage_error(Ytrue, Ypred)

print(f'MAE  : {mae:.4f}')
print(f'RMSE : {rmse:.4f}')
print(f'MAPE : {mape:.4f}')

# Format numbers to currency
def format_idr(value):
    return f'USD {value:,.2f}'

# Get dates for plotting
date_test = data.index[-len(Ytest):]

# Plot Actual vs Predicted
plt.rcParams['font.family'] = 'Times New Roman'
plt.style.use('seaborn-v0_8-whitegrid')
plt.figure(figsize=(12,6))
plt.plot(date_test, Ytrue, label='Actual', color='tab:blue', linewidth=2)
plt.plot(date_test, Ypred, label='Prediction', color='tab:orange', linewidth=2)
plt.title('Prediction vs Actual', fontsize=16, weight='bold', color='black')
plt.xlabel('Date', fontsize=14, weight='bold', color='black')
plt.ylabel('Close Price (USD)', fontsize=14, weight='bold', color='black')

# Add last values to chart
plt.text(date_test[-1], Ytrue[-1].item(), format_idr(Ytrue[-1].item()), color='blue', ha='left', va='bottom', fontsize=12)
plt.text(date_test[-1], Ypred[-1].item(), format_idr(Ypred[-1].item()), color='orange', ha='left', va='bottom', fontsize=12)

plt.legend(fontsize=12, loc='upper right')
plt.grid(True, linestyle='--', linewidth=0.3, alpha=0.3)
plt.xticks(rotation=45)
plt.tight_layout()
plt.show()

# Function to forecast future values
def forecast_future_days(model, data, n_future, feature_scaler, target_scaler, window_size=32):
    last_sequence = data[-window_size:].copy()
    forecast = []

    for _ in range(n_future):
        scaled_sequence = feature_scaler.transform(last_sequence)
        input_sequence = scaled_sequence.reshape((1, window_size, last_sequence.shape[1]))
        next_scaled = model.predict(input_sequence, verbose=0)
        next_value = target_scaler.inverse_transform(next_scaled)[0][0]
        forecast.append(next_value)

        next_row = last_sequence[-1].copy()
        next_row[0] = next_value  # Replace Close price
        last_sequence = np.vstack((last_sequence[1:], next_row))

    return forecast

# Get future prediction days from user
n_future_days = int(input("Future Days: "))
last_data = data[['Close', 'Volume']].values
future_preds = forecast_future_days(model, last_data, n_future_days, feature_scaler, target_scaler)
future_dates = pd.date_range(start=data.index[-1] + pd.Timedelta(days=1), periods=n_future_days, freq='B')  # Business days

# Find max and min forecast values
max_pred = max(future_preds)
min_pred = min(future_preds)
max_date = future_dates[future_preds.index(max_pred)]
min_date = future_dates[future_preds.index(min_pred)]

# Plot forecast
plt.style.use('seaborn-v0_8-white')
plt.rcParams.update({
    'font.family': 'sans-serif',
    'font.sans-serif': 'Arial',
    'axes.edgecolor': '#333333',
    'axes.labelcolor': '#333333',
    'xtick.color': '#666666',
    'ytick.color': '#666666',
    'axes.titleweight': 'semibold',
    'axes.titlesize': 16,
    'axes.labelsize': 13,
    'legend.frameon': False,
    'grid.color': '#e5e5e5',
})
plt.figure(figsize=(12, 6))
plt.plot(data.index[-50:], data['Close'].values[-50:], label='Historical', color='#3498db', linewidth=2)
plt.plot(future_dates, future_preds, label='Forecast', color='#e74c3c', linewidth=2, linestyle='--')

# Highlight max and min points
plt.scatter(max_date, max_pred, color='#e74c3c')
plt.text(max_date, max_pred, f'Max\n{format_idr(max_pred)}\n{max_date.strftime("%Y-%m-%d")}',
         fontsize=10, color='#e74c3c', ha='center', va='bottom', weight='semibold')

plt.scatter(min_date, min_pred, color='#27ae60')
plt.text(min_date, min_pred, f'Min\n{format_idr(min_pred)}\n{min_date.strftime("%Y-%m-%d")}',
         fontsize=10, color='#27ae60', ha='center', va='top', weight='semibold')

plt.title(f'{n_future_days}-Day Future Forecast')
plt.xlabel('Date')
plt.ylabel('Close Price (USD)')
plt.xticks(rotation=45)
plt.legend(loc='upper left')
plt.grid(True, linestyle='-', linewidth=0.3, alpha=0.3)
plt.tight_layout()
plt.show()
